{
 "cells": [
  {
   "cell_type": "code",
   "execution_count": 1,
   "id": "287b7589-0a88-4234-9d93-4a07b0476f62",
   "metadata": {},
   "outputs": [],
   "source": [
    "from bs4 import BeautifulSoup\n",
    "from datetime import datetime\n",
    "import requests\n",
    "import time\n",
    "import random\n",
    "import csv"
   ]
  },
  {
   "cell_type": "code",
   "execution_count": 34,
   "id": "7b754235-72dc-4ee4-b336-0f56504663f3",
   "metadata": {},
   "outputs": [
    {
     "data": {
      "text/plain": [
       "<Response [200]>"
      ]
     },
     "execution_count": 34,
     "metadata": {},
     "output_type": "execute_result"
    }
   ],
   "source": [
    "url = 'https://www.jobstreet.com.ph/Machine-Learning-Engineer-jobs'\n",
    "response = requests.get(url)\n",
    "response"
   ]
  },
  {
   "cell_type": "code",
   "execution_count": 35,
   "id": "2f4acefe-0af5-400f-a07f-2cf51e2eeb04",
   "metadata": {},
   "outputs": [],
   "source": [
    "soup = BeautifulSoup(response.text, 'html')\n",
    "jobs = soup.find_all('article', {'data-testid':'job-card'})\n",
    "job = jobs[0]"
   ]
  },
  {
   "cell_type": "code",
   "execution_count": 20,
   "id": "42a260ee-fb01-4422-a1dc-00ad9f044ea1",
   "metadata": {},
   "outputs": [
    {
     "data": {
      "text/plain": [
       "'Software Engineer – AI/Machine Learning Developer (work-from-home)'"
      ]
     },
     "execution_count": 20,
     "metadata": {},
     "output_type": "execute_result"
    }
   ],
   "source": [
    "job_title = job.find('a', {'data-testid': 'job-card-title'}).text\n",
    "job_title"
   ]
  },
  {
   "cell_type": "code",
   "execution_count": 21,
   "id": "9053c37a-7d25-4869-a29c-94003a15194a",
   "metadata": {},
   "outputs": [],
   "source": [
    "job_company = job.find('a', attrs={'data-type': 'company'})"
   ]
  },
  {
   "cell_type": "code",
   "execution_count": 22,
   "id": "b09cc435-b138-4671-af06-fe8f34f539c4",
   "metadata": {},
   "outputs": [
    {
     "data": {
      "text/plain": [
       "'Metro Manila'"
      ]
     },
     "execution_count": 22,
     "metadata": {},
     "output_type": "execute_result"
    }
   ],
   "source": [
    "job_location = job.find('a', attrs={'data-type': 'location'}).text\n",
    "job_location"
   ]
  },
  {
   "cell_type": "code",
   "execution_count": 23,
   "id": "0b63126e-9dd0-47c3-8744-7b8d55067464",
   "metadata": {},
   "outputs": [
    {
     "data": {
      "text/plain": [
       "'Y'"
      ]
     },
     "execution_count": 23,
     "metadata": {},
     "output_type": "execute_result"
    }
   ],
   "source": [
    "job_arrangement_tag = job.find('span', {'data-testid': 'work-arrangement'})\n",
    "\n",
    "if job_arrangement_tag:\n",
    "    is_remote = 'Y'\n",
    "else:\n",
    "    is_remote = 'N'\n",
    "\n",
    "is_remote"
   ]
  },
  {
   "cell_type": "code",
   "execution_count": 8,
   "id": "5a62b870-6377-42db-8d4b-af81d3a5bfb7",
   "metadata": {},
   "outputs": [
    {
     "data": {
      "text/plain": [
       "['Big data', 'Scaling work', 'Professional Growth and Learning Opportunities']"
      ]
     },
     "execution_count": 8,
     "metadata": {},
     "output_type": "execute_result"
    }
   ],
   "source": [
    "job_benefits_tag = [package.text for package in job.find_all('li')]\n",
    "if job_benefits_tag:\n",
    "    job_benefits = job_benefits_tag\n",
    "else:\n",
    "    job_benefits = ''\n",
    "\n",
    "job_benefits"
   ]
  },
  {
   "cell_type": "code",
   "execution_count": 9,
   "id": "9e304036-27b4-47de-9a28-036c9be7e73a",
   "metadata": {},
   "outputs": [
    {
     "data": {
      "text/plain": [
       "'2024-08-25'"
      ]
     },
     "execution_count": 9,
     "metadata": {},
     "output_type": "execute_result"
    }
   ],
   "source": [
    "listing_date = job.find('span', {'data-automation': 'jobListingDate'}).text\n",
    "date_today = datetime.today().strftime('%Y-%m-%d')\n",
    "date_today"
   ]
  },
  {
   "cell_type": "code",
   "execution_count": 24,
   "id": "1b1cde6a-7c98-42fd-afbb-2387fcd5ac12",
   "metadata": {},
   "outputs": [
    {
     "data": {
      "text/plain": [
       "''"
      ]
     },
     "execution_count": 24,
     "metadata": {},
     "output_type": "execute_result"
    }
   ],
   "source": [
    "salary_tag = job.find('span', {'data-automation': 'jobSalary'})\n",
    "if salary_tag:\n",
    "    job_salary = salary_tag.text.strip()\n",
    "else:\n",
    "    job_salary = ''\n",
    "\n",
    "job_salary"
   ]
  },
  {
   "cell_type": "code",
   "execution_count": 11,
   "id": "2f305374-cbb2-4864-b667-050eeb7cc950",
   "metadata": {},
   "outputs": [
    {
     "data": {
      "text/plain": [
       "'https://www.jobstreet.com.ph/job/78320296?type=standout&ref=search-standalone'"
      ]
     },
     "execution_count": 11,
     "metadata": {},
     "output_type": "execute_result"
    }
   ],
   "source": [
    "url = 'https://www.jobstreet.com.ph' + job.find('a', {'data-automation': 'job-list-view-job-link'}).get('href')\n",
    "url"
   ]
  },
  {
   "cell_type": "code",
   "execution_count": 12,
   "id": "3b5b1341-7d9c-42b1-9556-0352726fbe3f",
   "metadata": {},
   "outputs": [],
   "source": [
    "#function to retrieve a single record\n",
    "def get_record(job):\n",
    "\n",
    "    def get_job_title():\n",
    "        job_title = job.find('a', {'data-testid': 'job-card-title'}).text\n",
    "        return job_title\n",
    "\n",
    "    \n",
    "    def get_company():\n",
    "        company = job.find('a', {'data-type': 'company'})\n",
    "        if company:\n",
    "            job_company = job.find('a', {'data-type': 'company'}).text\n",
    "        else:\n",
    "            job_company = 'Private Advertiser'\n",
    "        return job_company\n",
    "\n",
    "    \n",
    "    def get_location():\n",
    "        job_location = job.find('a', {'data-type': 'location'}).text\n",
    "        return job_location\n",
    "\n",
    "    \n",
    "    def get_listing_date():\n",
    "        listing_date = job.find('span', {'data-automation': 'jobListingDate'}).text\n",
    "        return listing_date\n",
    "\n",
    "    \n",
    "    def get_url():\n",
    "        url = 'https://www.jobstreet.com.ph' + job.find('a', {'data-automation': 'job-list-view-job-link'}).get('href')\n",
    "        return url\n",
    "\n",
    "    \n",
    "    def get_work_arrangement():\n",
    "        job_arrangement_tag = job.find('span', {'data-testid': 'work-arrangement'})\n",
    "        if job_arrangement_tag:\n",
    "            is_remote = 'Y'\n",
    "        else:\n",
    "            is_remote = 'N'\n",
    "        return is_remote\n",
    "\n",
    "    \n",
    "    def get_benefits():\n",
    "        job_benefits_tag = [package.text for package in job.find_all('li')]\n",
    "        if job_benefits_tag:\n",
    "            job_benefits = job_benefits_tag\n",
    "        else:\n",
    "            job_benefits = ''\n",
    "        return job_benefits\n",
    "\n",
    "    \n",
    "    def get_salary():\n",
    "        salary_tag = job.find('span', {'data-automation': 'jobSalary'})\n",
    "        if salary_tag:\n",
    "            job_salary = salary_tag.text.strip()\n",
    "        else:\n",
    "            job_salary = ''\n",
    "        return job_salary\n",
    "\n",
    "    \n",
    "    date_today = datetime.today().strftime('%Y-%m-%d')\n",
    "\n",
    "    \n",
    "    #compile into a single set\n",
    "    record = (get_job_title(), get_company(), get_location(), get_work_arrangement(), get_salary(), get_benefits(), get_listing_date(), date_today, get_url())\n",
    "\n",
    "    return record"
   ]
  },
  {
   "cell_type": "code",
   "execution_count": 13,
   "id": "17c31d05-ae33-4249-8124-20636fce5df0",
   "metadata": {},
   "outputs": [],
   "source": [
    "records = []\n",
    "\n",
    "for job in jobs:\n",
    "    record = get_record(job)\n",
    "    records.append(record)"
   ]
  },
  {
   "cell_type": "code",
   "execution_count": 36,
   "id": "0544de3a-4c65-469b-943e-13aa1e70824a",
   "metadata": {},
   "outputs": [],
   "source": [
    "#function that ask for the position and location and creates the URL\n",
    "def get_url():\n",
    "    position = input('What position are your applying for?')\n",
    "    location = input('Where is your preferred location?')\n",
    "    if location:\n",
    "        template = 'https://www.jobstreet.com.ph/{}-jobs/in-{}'\n",
    "    else:\n",
    "        template = 'https://www.jobstreet.com.ph/?keywords={}'\n",
    "\n",
    "    position = position.replace(' ', '-')\n",
    "    location = location.replace(' ', '-')\n",
    "    url = template.format(position, location)\n",
    "    return url"
   ]
  },
  {
   "cell_type": "code",
   "execution_count": 37,
   "id": "957206fe-3acd-481c-a089-83de014b774f",
   "metadata": {
    "scrolled": true
   },
   "outputs": [
    {
     "name": "stdout",
     "output_type": "stream",
     "text": [
      "https://www.jobstreet.com.ph/Machine-Learning-Engineer-jobs?page=10\n",
      "https://www.jobstreet.com.ph/Machine-Learning-Engineer-jobs?page=10\n",
      "https://www.jobstreet.com.ph/Machine-Learning-Engineer-jobs?page=10\n",
      "https://www.jobstreet.com.ph/Machine-Learning-Engineer-jobs?page=10\n",
      "https://www.jobstreet.com.ph/Machine-Learning-Engineer-jobs?page=10\n",
      "https://www.jobstreet.com.ph/Machine-Learning-Engineer-jobs?page=10\n",
      "https://www.jobstreet.com.ph/Machine-Learning-Engineer-jobs?page=10\n",
      "https://www.jobstreet.com.ph/Machine-Learning-Engineer-jobs?page=10\n",
      "https://www.jobstreet.com.ph/Machine-Learning-Engineer-jobs?page=10\n"
     ]
    }
   ],
   "source": [
    "#while loop to check whether the latest page have a next button.\n",
    "while True:\n",
    "    try:\n",
    "        url = 'https://www.jobstreet.com.ph' + soup.find('a', {'title': 'Next'}).get('href')\n",
    "        response = requests.get(url)\n",
    "        soup = BeautifulSoup(response.text, 'html')\n",
    "        print(link)\n",
    "    except:\n",
    "        break\n",
    "        print('error')"
   ]
  },
  {
   "cell_type": "markdown",
   "id": "ce723153-2f74-4a79-816a-9d6735d63525",
   "metadata": {},
   "source": [
    "# Compiled Codes"
   ]
  },
  {
   "cell_type": "code",
   "execution_count": 5,
   "id": "f8dba778-53f9-434b-9913-89c96a576b30",
   "metadata": {},
   "outputs": [],
   "source": [
    "from bs4 import BeautifulSoup\n",
    "from datetime import datetime\n",
    "import requests\n",
    "import time\n",
    "import random\n",
    "import csv\n",
    "\n",
    "        \n",
    "def get_record(job):\n",
    "    def get_job_title():\n",
    "        job_title = job.find('a', {'data-testid': 'job-card-title'}).text\n",
    "        return job_title\n",
    "    \n",
    "    def get_company():\n",
    "        company = job.find('a', {'data-type': 'company'})\n",
    "        if company:\n",
    "            job_company = job.find('a', {'data-type': 'company'}).text\n",
    "        else:\n",
    "            job_company = 'Private Advertiser'\n",
    "        return job_company\n",
    "    \n",
    "    def get_location():\n",
    "        job_location = job.find('a', {'data-type': 'location'}).text\n",
    "        return job_location\n",
    "    \n",
    "    def get_listing_date():\n",
    "        listing_date = job.find('span', {'data-automation': 'jobListingDate'}).text\n",
    "        return listing_date\n",
    "        \n",
    "    def get_url():\n",
    "        url = 'https://www.jobstreet.com.ph' + job.find('a', {'data-automation': 'job-list-view-job-link'}).get('href')\n",
    "        return url\n",
    "    \n",
    "    def get_work_arrangement():\n",
    "        job_arrangement_tag = job.find('span', {'data-testid': 'work-arrangement'})\n",
    "        if job_arrangement_tag:\n",
    "            is_remote = 'Y'\n",
    "        else:\n",
    "            is_remote = 'N'\n",
    "        return is_remote\n",
    "    \n",
    "    def get_benefits():\n",
    "        job_benefits_tag = [package.text for package in job.find_all('li')]\n",
    "        if job_benefits_tag:\n",
    "            job_benefits = job_benefits_tag\n",
    "        else:\n",
    "            job_benefits = ''\n",
    "        return job_benefits\n",
    "    \n",
    "    def get_salary():\n",
    "        salary_tag = job.find('span', {'data-automation': 'jobSalary'})\n",
    "        if salary_tag:\n",
    "            job_salary = salary_tag.text.strip()\n",
    "        else:\n",
    "            job_salary = ''\n",
    "        return job_salary\n",
    "    \n",
    "\n",
    "    date_today = datetime.today().strftime('%Y-%m-%d')\n",
    "    \n",
    "        \n",
    "        #compile into a single set\n",
    "    record = (get_job_title(), get_company(), get_location(), get_work_arrangement(), get_salary(), get_benefits(), get_listing_date(), date_today, get_url())\n",
    "    return record\n",
    "    \n",
    "def get_url():\n",
    "    position = input('What position are your applying for?')\n",
    "    location = input('Where is your preferred location?').strip()\n",
    "    \n",
    "    if location:\n",
    "        template = 'https://www.jobstreet.com.ph/{}-jobs/in-{}'\n",
    "    else:\n",
    "        template = 'https://www.jobstreet.com.ph/{}-jobs'\n",
    "\n",
    "    position = position.replace(' ', '-')\n",
    "    location = location.replace(' ', '-')\n",
    "    url = template.format(position, location)\n",
    "    return url\n",
    "        \n",
    "def run():\n",
    "    global records\n",
    "    records = []\n",
    "    url = get_url()\n",
    "    while True:\n",
    "        response = requests.get(url)\n",
    "        soup = BeautifulSoup(response.text, 'html')\n",
    "        jobs = soup.find_all('article', {'data-testid':'job-card'})\n",
    "\n",
    "        for job in jobs:\n",
    "            record = get_record(job)\n",
    "            records.append(record)\n",
    "\n",
    "        try:\n",
    "            url = 'https://www.jobstreet.com.ph' + soup.find('a', {'title': 'Next'}).get('href')\n",
    "        except:\n",
    "            break\n",
    "\n",
    "        print('running....')\n",
    "        time.sleep(random.randint(0,5)) #put the code to sleep to avoid server being flooded\n",
    "    return 'All records retrieved' \n",
    "\n",
    "def print_records():\n",
    "    #print records\n",
    "    return records\n",
    "\n",
    "def get_length():\n",
    "    #returns the total number of jobs\n",
    "    return len(records)\n",
    "\n",
    "def save_records(file_name='results.csv'):\n",
    "    path = r\"C:\\Users\\HP\\Downloads\\\\\" + file_name\n",
    "    with open(path, 'w', newline='', encoding='utf-8') as csvfile:\n",
    "        writer = csv.writer(csvfile, delimiter=',')\n",
    "        writer.writerow(['JobTitle', 'Company', 'Location', 'is_remote', 'Salary', 'Benefits', 'listing_date', 'date_parsed', 'URL'])\n",
    "        writer.writerows(records)\n",
    "    return 'File successfully saved'"
   ]
  },
  {

